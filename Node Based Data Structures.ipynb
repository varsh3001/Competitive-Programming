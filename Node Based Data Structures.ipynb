{
 "cells": [
  {
   "cell_type": "markdown",
   "id": "3433be23-21e0-49db-9fea-3849da91c8f2",
   "metadata": {},
   "source": [
    "# Node Based Data Structures- Linked List"
   ]
  },
  {
   "cell_type": "markdown",
   "id": "fa790fa2-1a65-4ceb-ba2d-31d399819d21",
   "metadata": {},
   "source": [
    "## Delete Node in a Linked List"
   ]
  },
  {
   "cell_type": "code",
   "execution_count": 17,
   "id": "7d47e892-a770-4287-a056-820cc937275f",
   "metadata": {},
   "outputs": [
    {
     "name": "stdin",
     "output_type": "stream",
     "text": [
      "Enter number of nodes: 4\n",
      "Enter value:  1\n",
      "Enter value:  2\n",
      "Enter value:  3\n",
      "Enter value:  4\n"
     ]
    },
    {
     "name": "stdout",
     "output_type": "stream",
     "text": [
      "Original Linked List:\n",
      "1->2->3->4->\n",
      "\n",
      "After deleting the specific node:\n",
      "1->3->4->\n"
     ]
    }
   ],
   "source": [
    "class ListNode:\n",
    "    def __init__(self, val=0,next=None):\n",
    "        self.val = val\n",
    "        self.next = None\n",
    "class Solution:\n",
    "    # a function to dynamically create a linked List\n",
    "    def createLL(self,n):\n",
    "        head=None\n",
    "        for i in range(n):\n",
    "            v=input(\"Enter value: \")\n",
    "            new_node=ListNode(v)\n",
    "            if i==0:\n",
    "                head=new_node\n",
    "            else:\n",
    "                t=head\n",
    "                while t.next:\n",
    "                    t=t.next\n",
    "                t.next=new_node\n",
    "        return head\n",
    "    # a function to display the Linked List\n",
    "    def show(self,head):\n",
    "        t=head\n",
    "        while t:\n",
    "            print(t.val,end='->')\n",
    "            t=t.next\n",
    "        return ''\n",
    "    \"\"\"\n",
    "    Leetcode-Delete Node in a Linked List\n",
    "    To delete a node such that \n",
    "    -The value of the given node should not exist in the linked list.\n",
    "    -The number of nodes in the linked list should decrease by one.\n",
    "    -All the values before node should be in the same order.\n",
    "    -All the values after node should be in the same order.\n",
    "    \"\"\"\n",
    "    def deleteNode(self, node):\n",
    "        node.val=node.next.val\n",
    "        node.next=node.next.next\n",
    "        return ''\n",
    "#driver code\n",
    "obj=Solution()\n",
    "head=obj.createLL(int(input(\"Enter number of nodes:\")))\n",
    "print(\"Original Linked List:\")\n",
    "print(obj.show(head))\n",
    "print(obj.deleteNode(head.next)) # second node to be deleted\n",
    "print(\"After deleting the specific node:\") # in this case the second node\n",
    "print(obj.show(head))"
   ]
  },
  {
   "cell_type": "markdown",
   "id": "054cd4d5-c12d-47c4-a31f-f8d32c2c7e49",
   "metadata": {},
   "source": [
    "## Middle of Linked List"
   ]
  },
  {
   "cell_type": "code",
   "execution_count": 19,
   "id": "446eda1d-9a9c-4008-bf5a-3e44f5c8a479",
   "metadata": {},
   "outputs": [
    {
     "name": "stdout",
     "output_type": "stream",
     "text": [
      "Linked List:\n",
      "1->2->3->\n",
      "The middle of the Linked List:\n",
      "2\n"
     ]
    }
   ],
   "source": [
    "class ListNode:\n",
    "    def __init__(self,val=0,next=None):\n",
    "        self.val=val\n",
    "        self.next=next\n",
    "class Solution:\n",
    "    # a function to find middle value\n",
    "    def findMiddle(self,head):\n",
    "        slow=head\n",
    "        fast=head\n",
    "        while fast and fast.next:\n",
    "            slow=slow.next\n",
    "            fast=fast.next.next\n",
    "        return slow.val\n",
    "    # a function to display the Linked List\n",
    "    def show(self,head):\n",
    "        t=head\n",
    "        while t:\n",
    "            print(t.val,end='->')\n",
    "            t=t.next\n",
    "        return ''\n",
    "obj=Solution()\n",
    "#creating list in static way\n",
    "head=ListNode(1)\n",
    "head.next=ListNode(2)\n",
    "head.next.next=ListNode(3)\n",
    "print(\"Linked List:\")\n",
    "print(obj.show(head))\n",
    "print(\"The middle of the Linked List:\")\n",
    "print(obj.findMiddle(head))"
   ]
  },
  {
   "cell_type": "markdown",
   "id": "9fc80202-aa14-4a75-9f22-92573b9df8fb",
   "metadata": {},
   "source": [
    "## Odd Even Linked List"
   ]
  },
  {
   "cell_type": "code",
   "execution_count": 26,
   "id": "d3baec59-f195-49a8-b25d-ad5b13631162",
   "metadata": {},
   "outputs": [
    {
     "name": "stdout",
     "output_type": "stream",
     "text": [
      "Original List:\n",
      "1->2->3->4->5->\n",
      "After reordering:\n",
      "1->3->5->2->4->\n"
     ]
    }
   ],
   "source": [
    "class ListNode:\n",
    "    def __init__(self,val=0,next=None):\n",
    "        self.val=val\n",
    "        self.next=None\n",
    "class Solution:\n",
    "     # a function to display the Linked List\n",
    "    def show(self,head):\n",
    "        t=head\n",
    "        while t:\n",
    "            print(t.val,end='->')\n",
    "            t=t.next\n",
    "        return ''\n",
    "    # a function to group all the nodes with odd indices together followed by the nodes with even indices, and return the reordered list.Leetcode-328\n",
    "    def oddeven(self,head):\n",
    "        stack=[]\n",
    "        begin=head\n",
    "        prev=head\n",
    "        if head:\n",
    "            head=head.next\n",
    "        else:\n",
    "            return head\n",
    "        while head:\n",
    "            tmp=head.next\n",
    "            head.next=None\n",
    "            stack.insert(0,head) #list\n",
    "            if tmp:\n",
    "                head=tmp.next\n",
    "                prev.next=tmp\n",
    "                prev=tmp\n",
    "            else:\n",
    "                head=tmp\n",
    "        while stack:\n",
    "            prev.next=stack.pop()\n",
    "            prev=prev.next\n",
    "        return begin\n",
    "obj=Solution()\n",
    "head=ListNode(1)\n",
    "head.next=ListNode(2)\n",
    "head.next.next=ListNode(3)\n",
    "head.next.next.next=ListNode(4)\n",
    "head.next.next.next.next=ListNode(5)\n",
    "print(\"Original List:\")\n",
    "print(obj.show(head))\n",
    "obj.oddeven(head)\n",
    "print(\"After reordering:\")\n",
    "print(obj.show(head))"
   ]
  },
  {
   "cell_type": "markdown",
   "id": "6b652ecc-1622-4381-b881-3b0b4502c6b8",
   "metadata": {},
   "source": [
    "## Convert Binary Number in a Linked List to Integer"
   ]
  },
  {
   "cell_type": "code",
   "execution_count": 30,
   "id": "cd80818b-ee74-4a77-b235-e605ff16fc92",
   "metadata": {},
   "outputs": [
    {
     "name": "stdout",
     "output_type": "stream",
     "text": [
      "Linked List:\n",
      "1->0->1->\n",
      "The decimal Value is:\n"
     ]
    },
    {
     "data": {
      "text/plain": [
       "5"
      ]
     },
     "execution_count": 30,
     "metadata": {},
     "output_type": "execute_result"
    }
   ],
   "source": [
    "import math\n",
    "class ListNode:\n",
    "    def __init__(self,val=0,next=None):\n",
    "        self.val=val\n",
    "        self.next=None\n",
    "class Solution:\n",
    "    # a function to display the Linked List.\n",
    "    def show(self,head):\n",
    "        t=head\n",
    "        while t:\n",
    "            print(t.val,end='->')\n",
    "            t=t.next\n",
    "        return ''\n",
    "    # a function to return integer value of binary number in linked list where each number is in single node. Leetcode-1290\n",
    "    def getDecimalValue(self, head: ListNode) -> int:\n",
    "        stack=[]\n",
    "        while head:\n",
    "            stack.append(head.val)\n",
    "            head=head.next\n",
    "        dec=0\n",
    "        length=0\n",
    "        while stack:\n",
    "            dec+=math.pow(2,length)*stack.pop()\n",
    "            length+=1\n",
    "        return int(dec)\n",
    "obj=Solution()\n",
    "head=ListNode(1)\n",
    "head.next=ListNode(0)\n",
    "head.next.next=ListNode(1)\n",
    "print(\"Linked List:\")\n",
    "print(obj.show(head))\n",
    "print(\"The decimal Value is:\")\n",
    "obj.getDecimalValue(head)"
   ]
  },
  {
   "cell_type": "markdown",
   "id": "bac23074-ec12-4b75-9c93-a98831d46659",
   "metadata": {},
   "source": [
    "## Palindrome Linked List"
   ]
  },
  {
   "cell_type": "code",
   "execution_count": 39,
   "id": "e082dc33-a256-4fea-84b9-7121fd580088",
   "metadata": {},
   "outputs": [
    {
     "name": "stdout",
     "output_type": "stream",
     "text": [
      "1->2->2->1->\n",
      "True\n"
     ]
    }
   ],
   "source": [
    "class ListNode:\n",
    "    def __init__(self,val=0,next=None):\n",
    "        self.val=val\n",
    "        self.next=next\n",
    "class Solution:\n",
    "    # a function to display the Linked List.\n",
    "    def show(self,head):\n",
    "        t=head\n",
    "        while t:\n",
    "            print(t.val,end=\"->\")\n",
    "            t=t.next\n",
    "        return ''\n",
    "    # a function which returns true if linked list is palindrome, else false. Leetcode-234\n",
    "    def palindrome(self,head):\n",
    "        if head is None:\n",
    "            return True\n",
    "        slow=head\n",
    "        fast=head\n",
    "        while fast and fast.next:\n",
    "            fast=fast.next.next\n",
    "            slow=slow.next\n",
    "        prev=None\n",
    "        curr=slow\n",
    "        while curr:\n",
    "            temp=curr.next\n",
    "            curr.next=prev\n",
    "            prev=curr\n",
    "            curr=temp\n",
    "        first=head\n",
    "        second=prev\n",
    "        while second:\n",
    "            if first.val!=second.val:\n",
    "                return False\n",
    "            first=first.next\n",
    "            second=second.next\n",
    "        return True\n",
    "obj=Solution()\n",
    "head=ListNode(1)\n",
    "head.next=ListNode(2)\n",
    "head.next.next=ListNode(2)\n",
    "head.next.next.next=ListNode(1)\n",
    "print(obj.show(head))\n",
    "head=obj.palindrome(head)\n",
    "print(head)"
   ]
  },
  {
   "cell_type": "markdown",
   "id": "cce8b725-6842-4ea8-8517-734aeba5fce9",
   "metadata": {},
   "source": [
    "## Reversing the Linked List"
   ]
  },
  {
   "cell_type": "code",
   "execution_count": 42,
   "id": "330b3465-ba77-4dd2-851f-4016b9be7c45",
   "metadata": {},
   "outputs": [
    {
     "name": "stdout",
     "output_type": "stream",
     "text": [
      "Original List:\n",
      "1->2->3->4->\n",
      "\n",
      "Reversed List:\n",
      "4->3->2->1->"
     ]
    }
   ],
   "source": [
    "class ListNode:\n",
    "    def __init__(self,val=0,next=None):\n",
    "        self.val=val\n",
    "        self.next=next\n",
    "class Solution:\n",
    "    # a function to display the Linked List.\n",
    "    def show(self,head):\n",
    "        t=head\n",
    "        while t:\n",
    "            print(t.val,end=\"->\")\n",
    "            t=t.next   \n",
    "    # a function to reverse the linked list\n",
    "    def reverseList(self,head):\n",
    "        prev=None\n",
    "        while head:\n",
    "            cur=head\n",
    "            head=head.next\n",
    "            cur.next=prev\n",
    "            prev=cur\n",
    "        return prev\n",
    "obj=Solution()\n",
    "head=ListNode(1)\n",
    "head.next=ListNode(2)\n",
    "head.next.next=ListNode(3)\n",
    "head.next.next.next=ListNode(4)\n",
    "print(\"Original List:\")\n",
    "obj.show(head)\n",
    "head=obj.reverseList(head)\n",
    "print(\"\\n\")\n",
    "print(\"Reversed List:\")\n",
    "obj.show(head)"
   ]
  },
  {
   "cell_type": "markdown",
   "id": "779c3b3f-377f-4552-9157-ef41103b564c",
   "metadata": {},
   "source": [
    "## Remove Linked List Elements"
   ]
  },
  {
   "cell_type": "code",
   "execution_count": 48,
   "id": "92ae4298-0679-4292-a898-9fcbe047a2f7",
   "metadata": {},
   "outputs": [
    {
     "name": "stdout",
     "output_type": "stream",
     "text": [
      "Original List:\n",
      "1->2->6->3->4->5->6->\n",
      "\n",
      "After removing the elements:\n",
      "1->2->3->4->5->"
     ]
    }
   ],
   "source": [
    "class ListNode:\n",
    "    def __init__(self,val=0,next=None):\n",
    "        self.val=val\n",
    "        self.next=next\n",
    "class Solution:\n",
    "    def show(self,head):\n",
    "        t=head\n",
    "        while t:\n",
    "            print(t.val,end=\"->\")\n",
    "            t=t.next\n",
    "    def removeElements(self,head,val):\n",
    "        temp=ListNode(0)#dummy\n",
    "        temp.next=head\n",
    "        prev,curr=temp,head\n",
    "        while curr:\n",
    "            if curr.val==val:\n",
    "                prev.next=curr.next\n",
    "            else:\n",
    "                prev=curr\n",
    "            curr=curr.next\n",
    "        return temp.next\n",
    "obj=Solution()\n",
    "val=6\n",
    "head=ListNode(1)\n",
    "head.next=ListNode(2)\n",
    "head.next.next=ListNode(6)\n",
    "head.next.next.next=ListNode(3)\n",
    "head.next.next.next.next=ListNode(4)\n",
    "head.next.next.next.next.next=ListNode(5)\n",
    "head.next.next.next.next.next.next=ListNode(6)\n",
    "print(\"Original List:\")\n",
    "obj.show(head)\n",
    "head=obj.removeElements(head,val)\n",
    "print(\"\\n\")\n",
    "print(\"After removing the elements:\")\n",
    "obj.show(head)"
   ]
  }
 ],
 "metadata": {
  "kernelspec": {
   "display_name": "Python 3 (ipykernel)",
   "language": "python",
   "name": "python3"
  },
  "language_info": {
   "codemirror_mode": {
    "name": "ipython",
    "version": 3
   },
   "file_extension": ".py",
   "mimetype": "text/x-python",
   "name": "python",
   "nbconvert_exporter": "python",
   "pygments_lexer": "ipython3",
   "version": "3.11.5"
  }
 },
 "nbformat": 4,
 "nbformat_minor": 5
}
