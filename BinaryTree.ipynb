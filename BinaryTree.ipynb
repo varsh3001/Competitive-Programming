{
 "cells": [
  {
   "cell_type": "markdown",
   "id": "0e290330-06bb-4b43-a920-1aed4d25e805",
   "metadata": {},
   "source": [
    "## Implementation and Traversal of Binary Tree"
   ]
  },
  {
   "cell_type": "code",
   "execution_count": 6,
   "id": "43d72f22-bcc6-443f-b51f-0ad041fb6d2c",
   "metadata": {},
   "outputs": [
    {
     "name": "stdout",
     "output_type": "stream",
     "text": [
      "Inorder traversal:\n",
      "9 4 11 10 3 6 \n",
      "\n",
      "Preorder traversal:\n",
      "10 4 9 11 6 3 \n",
      "\n",
      "Postorder traversal:\n",
      "9 11 4 3 6 10 "
     ]
    }
   ],
   "source": [
    "class Node:\n",
    "    def __init__(self,key):\n",
    "        self.leftChild=None\n",
    "        self.rightChild=None\n",
    "        self.data=key\n",
    "# a function to perform inorder traversal\n",
    "def inorderTraversal(root):\n",
    "    if root:\n",
    "        inorderTraversal(root.leftChild)\n",
    "        print(root.data,end=\" \")\n",
    "        inorderTraversal(root.rightChild)\n",
    "# a function to perform preorder traversal\n",
    "def preorderTraversal(root):\n",
    "    if root:\n",
    "        print(root.data,end=\" \")\n",
    "        preorderTraversal(root.leftChild)\n",
    "        preorderTraversal(root.rightChild)\n",
    "# a function to perform postorder traversal\n",
    "def postorderTraversal(root):\n",
    "    if root:\n",
    "        postorderTraversal(root.leftChild)\n",
    "        postorderTraversal(root.rightChild)\n",
    "        print(root.data,end=\" \")\n",
    "if __name__==\"__main__\":\n",
    "    root=Node(10)\n",
    "    root.leftChild=Node(4)\n",
    "    root.rightChild=Node(6)\n",
    "    root.leftChild.leftChild=Node(9)\n",
    "    root.leftChild.rightChild=Node(11)\n",
    "    root.rightChild.leftChild=Node(3)\n",
    "    print(\"Inorder traversal:\")\n",
    "    inorderTraversal(root)\n",
    "    print(\"\\n\")\n",
    "    print(\"Preorder traversal:\")\n",
    "    preorderTraversal(root)\n",
    "    print(\"\\n\")\n",
    "    print(\"Postorder traversal:\")\n",
    "    postorderTraversal(root)"
   ]
  },
  {
   "cell_type": "markdown",
   "id": "f54c283a-f641-4180-b52d-0f2ba72243b0",
   "metadata": {},
   "source": [
    "## Level Order Traversal"
   ]
  },
  {
   "cell_type": "code",
   "execution_count": 24,
   "id": "61253b4a-288e-442c-9608-f6d0ff8503f7",
   "metadata": {},
   "outputs": [
    {
     "name": "stdout",
     "output_type": "stream",
     "text": [
      "Level order traversal:\n",
      "10 4 6 9 11 3 "
     ]
    }
   ],
   "source": [
    "class TreeNode:\n",
    "    def __init__(self,key):\n",
    "        self.leftChild=None\n",
    "        self.rightChild=None\n",
    "        self.key=key\n",
    "def levelOrderTraversal(root):\n",
    "    if root is None:\n",
    "        return\n",
    "    queue=[root]\n",
    "    while queue:\n",
    "        current_level=[]\n",
    "        level_size=len(queue)\n",
    "        for i in range(level_size):\n",
    "            node=queue.pop(0)\n",
    "            current_level.append(node.key)\n",
    "            if node.leftChild:\n",
    "                queue.append(node.leftChild)\n",
    "            if node.rightChild:\n",
    "                queue.append(node.rightChild)\n",
    "        print(*current_level,sep=\" \",end=\" \")\n",
    "if __name__==\"__main__\":\n",
    "    root=TreeNode(10)\n",
    "    root.leftChild=TreeNode(4)\n",
    "    root.rightChild=TreeNode(6)\n",
    "    root.leftChild.leftChild=TreeNode(9)\n",
    "    root.leftChild.rightChild=TreeNode(11)\n",
    "    root.rightChild.leftChild=TreeNode(3)\n",
    "    print(\"Level order traversal:\")\n",
    "    levelOrderTraversal(root)"
   ]
  },
  {
   "cell_type": "markdown",
   "id": "de4f1e10-2dcd-4925-a4df-bc4b144d42d2",
   "metadata": {},
   "source": [
    "## Checking if a binary tree is full"
   ]
  },
  {
   "cell_type": "code",
   "execution_count": 16,
   "id": "3c8b8693-d4cc-4d0f-a92b-690bbfa3caea",
   "metadata": {},
   "outputs": [
    {
     "name": "stdout",
     "output_type": "stream",
     "text": [
      "False\n"
     ]
    }
   ],
   "source": [
    "class TreeNode:\n",
    "    def __init__(self,key):\n",
    "        self.leftChild=None\n",
    "        self.rightChild=None\n",
    "        self.key=key\n",
    "\n",
    "def is_full(root):\n",
    "    if root is None:\n",
    "        return True\n",
    "    if root.leftChild is None and root.rightChild is None:\n",
    "        return True\n",
    "    if root.leftChild is not None and root.rightChild is not None:\n",
    "        return is_full(root.leftChild) and is_full(root.rightChild)\n",
    "    return False\n",
    "if __name__==\"__main__\":\n",
    "    root=TreeNode(10)\n",
    "    root.leftChild=TreeNode(4)\n",
    "    root.rightChild=TreeNode(6)\n",
    "    root.leftChild.leftChild=TreeNode(9)\n",
    "    root.leftChild.rightChild=TreeNode(11)\n",
    "    root.rightChild.leftChild=TreeNode(3)\n",
    "    print(is_full(root))"
   ]
  },
  {
   "cell_type": "markdown",
   "id": "9ad1e3f5-24d3-480f-a2ee-baf838c1051a",
   "metadata": {},
   "source": [
    "## Checking if a binary tree is complete"
   ]
  },
  {
   "cell_type": "code",
   "execution_count": 18,
   "id": "1f0666b5-adde-493d-ae90-ee3baed1c7b3",
   "metadata": {},
   "outputs": [
    {
     "name": "stdout",
     "output_type": "stream",
     "text": [
      "True\n"
     ]
    }
   ],
   "source": [
    "def is_complete(root):\n",
    "    if root is None:\n",
    "        return True\n",
    "    queue=[root]\n",
    "    flag=False\n",
    "    while queue:\n",
    "        current=queue.pop(0)\n",
    "        if current:\n",
    "            if flag:\n",
    "                return False\n",
    "            queue.append(current.leftChild)\n",
    "            queue.append(current.rightChild)\n",
    "        else:\n",
    "            flag=True\n",
    "    return True\n",
    "print(is_complete(root))"
   ]
  },
  {
   "cell_type": "markdown",
   "id": "5c55db68-d220-47cd-abb4-c671874d8c72",
   "metadata": {},
   "source": [
    "## Checking if a binary tree is perfect"
   ]
  },
  {
   "cell_type": "code",
   "execution_count": 19,
   "id": "1f21a3a5-512a-4ff7-bc1d-6604e44f8a57",
   "metadata": {},
   "outputs": [
    {
     "name": "stdout",
     "output_type": "stream",
     "text": [
      "False\n"
     ]
    }
   ],
   "source": [
    "def is_perfect(root,depth=0,level=0):\n",
    "    if root is None:\n",
    "        return True\n",
    "    if root.leftChild is None and root.rightChild is None:\n",
    "        return depth==level+1\n",
    "    if root.leftChild is None or root.rightChild is None:\n",
    "        return False\n",
    "    return is_perfect(root.leftChild,depth,level+1) and is_perfect(root.rightChild,depth,level+1)\n",
    "print(is_perfect(root))"
   ]
  },
  {
   "cell_type": "markdown",
   "id": "0822b453-8ae4-4b47-a5ec-987594713036",
   "metadata": {},
   "source": [
    "## Checking if a binary tree is balanced"
   ]
  },
  {
   "cell_type": "code",
   "execution_count": 22,
   "id": "5b99e2f0-2809-4735-a04e-140b0d821768",
   "metadata": {},
   "outputs": [
    {
     "name": "stdout",
     "output_type": "stream",
     "text": [
      "True\n"
     ]
    }
   ],
   "source": [
    "def is_balanced(root):\n",
    "    if root is None:\n",
    "        return True\n",
    "    left_height=height(root.leftChild)\n",
    "    right_height=height(root.rightChild)\n",
    "    return abs(left_height-right_height)<=1 and is_balanced(root.leftChild) and is_balanced(root.rightChild)\n",
    "def height(root):\n",
    "    if root is None:\n",
    "        return 0\n",
    "    return 1+max(height(root.leftChild),height(root.rightChild))\n",
    "print(is_balanced(root))"
   ]
  },
  {
   "cell_type": "markdown",
   "id": "ee9e8115-d2fc-4065-8fda-9c5432106031",
   "metadata": {},
   "source": [
    "DATE: 04-04-2024"
   ]
  },
  {
   "cell_type": "markdown",
   "id": "50b95c6b-a88d-49de-bc6a-b79480be9b7e",
   "metadata": {},
   "source": [
    "## Insertion in a Binary Tree in Level Order"
   ]
  },
  {
   "cell_type": "code",
   "execution_count": 3,
   "id": "b52c0ae1-9f0c-46a6-9740-0f43aa1c0e9e",
   "metadata": {},
   "outputs": [
    {
     "name": "stdout",
     "output_type": "stream",
     "text": [
      "Inorder Traversal before insertion: 9 4 11 10 6 3 \n",
      "\n",
      "Inorder Traversal after insertion: 9 4 11 10 60 6 3 "
     ]
    }
   ],
   "source": [
    "from collections import deque\n",
    "\n",
    "class TreeNode:\n",
    "    def __init__(self,data):\n",
    "        self.key=data\n",
    "        self.left=None\n",
    "        self.right=None\n",
    "\n",
    "def inorder_traversal(root):\n",
    "    if root:\n",
    "        inorder_traversal(root.left)\n",
    "        print(root.key,end=' ')\n",
    "        inorder_traversal(root.right)\n",
    "\n",
    "def insert(root,key):\n",
    "    if not root:\n",
    "        return TreeNode(key)\n",
    "    queue=deque([root])\n",
    "    while queue:\n",
    "        node=queue.popleft()\n",
    "        if not node.left:  \n",
    "            node.left=TreeNode(key)\n",
    "            break\n",
    "        else:\n",
    "            queue.append(node.left)\n",
    "\n",
    "        if not node.right:\n",
    "            node.right=TreeNode(key)\n",
    "            break\n",
    "        else:\n",
    "            queue.append(node.right)\n",
    "\n",
    "if __name__==\"__main__\":\n",
    "    root=TreeNode(10)\n",
    "    root.left=TreeNode(4)\n",
    "    root.right=TreeNode(6)\n",
    "    root.left.left=TreeNode(9)\n",
    "    root.left.right=TreeNode(11)\n",
    "    root.right.right=TreeNode(3)\n",
    "\n",
    "\n",
    "    print(\"Inorder Traversal before insertion:\",end=\" \")\n",
    "    inorder_traversal(root)\n",
    "    print(\"\\n\")\n",
    "    key=60\n",
    "    insert(root,key)\n",
    "    print(\"Inorder Traversal after insertion:\",end=\" \")\n",
    "    inorder_traversal(root)"
   ]
  },
  {
   "cell_type": "markdown",
   "id": "6e10a1b2-0c79-4b09-bd0e-7f652dd4fdc3",
   "metadata": {},
   "source": [
    "## Deletion in a Binary Tree"
   ]
  },
  {
   "cell_type": "code",
   "execution_count": 9,
   "id": "b495c132-3369-48d9-ba41-777af86ce19b",
   "metadata": {},
   "outputs": [
    {
     "name": "stdout",
     "output_type": "stream",
     "text": [
      "Inorder Traversal before deletion: 9 4 11 10 52 6 3 \n",
      "\n",
      "Inorder Traversal after deletion: 9 4 11 10 3 6 "
     ]
    }
   ],
   "source": [
    "class TreeNode:\n",
    "    def __init__(self,data):\n",
    "        self.data=data\n",
    "        self.left=None\n",
    "        self.right=None\n",
    "\n",
    "def inorder_traversal(root):\n",
    "    if root:\n",
    "        inorder_traversal(root.left)\n",
    "        print(root.data,end=' ')\n",
    "        inorder_traversal(root.right)\n",
    "def delete_deepest(root,d_node):\n",
    "    q=[root]\n",
    "    while q:\n",
    "        temp=q.pop(0)\n",
    "        if temp is d_node:\n",
    "            temp=None\n",
    "            return\n",
    "        if temp.right:\n",
    "            if temp.right is d_node:\n",
    "                temp.right=None\n",
    "                return\n",
    "            else:\n",
    "                q.append(temp.right)\n",
    "        if temp.left:\n",
    "            if temp.left is d_node:\n",
    "                temp.left=None\n",
    "                return\n",
    "            else:\n",
    "                q.append(temp.left)\n",
    "\n",
    "def deletion(root,key):\n",
    "    if root is None:\n",
    "        return None\n",
    "    if root.left is None and root.right is None:\n",
    "        if root.data==key:\n",
    "            return None\n",
    "        else:\n",
    "            return root\n",
    "    key_node=None\n",
    "    q=[root]\n",
    "    temp=None\n",
    "    while q:\n",
    "        temp=q.pop(0)\n",
    "        if temp.data==key:\n",
    "            key_node=temp\n",
    "        if temp.left:\n",
    "            q.append(temp.left)\n",
    "        if temp.right:\n",
    "            q.append(temp.right)\n",
    "    if key_node:\n",
    "        x=temp.data\n",
    "        delete_deepest(root,temp)\n",
    "        key_node.data=x\n",
    "    return root\n",
    "\n",
    "if __name__==\"__main__\":\n",
    "    root=TreeNode(10)\n",
    "    root.left=TreeNode(4)\n",
    "    root.right=TreeNode(6)\n",
    "    root.left.left=TreeNode(9)\n",
    "    root.left.right=TreeNode(11)\n",
    "    root.right.left=TreeNode(52)\n",
    "    root.right.right=TreeNode(3)\n",
    "    key=52\n",
    "    print(\"Inorder Traversal before deletion:\",end=\" \")\n",
    "    inorder_traversal(root)\n",
    "    root=deletion(root,key)\n",
    "    print(\"\\n\")\n",
    "    print(\"Inorder Traversal after deletion:\",end=\" \")\n",
    "    inorder_traversal(root)"
   ]
  },
  {
   "cell_type": "markdown",
   "id": "0b52d257-bf95-4747-8731-006c5ff9b95e",
   "metadata": {},
   "source": [
    "## Properties of Binary Trees\n",
    "### 1.Maximum Number of Nodes at Level 'l':\n",
    "#### At each level 'l' of a binary tree, the maximum number of nodes is $2^h$\n",
    "### 2.Maximum Number of Nodes in a Binary Tree of Height 'h':\n",
    "#### For a binary tree of height 'h', the maximum number of nodes is  $2^h-1$\n",
    "### 3.Minimum Possible Height if a Binary tree with 'N' Nodes:\n",
    "#### For a binary tree with 'N' nodes, the minimum possible height is $Log2(N+1)$\n",
    "### 4.Minimum Number of Levels for a Binary Tree with 'L' leaves:\n",
    "#### For a binary tree with 'L' leaves, the minimum number of levels is $|Log2L|+1$"
   ]
  },
  {
   "cell_type": "markdown",
   "id": "8e1c028a-9507-4b6b-b242-d9ca2a7a9f61",
   "metadata": {},
   "source": [
    "## Level Order Traversal in Spiral form"
   ]
  },
  {
   "cell_type": "code",
   "execution_count": 12,
   "id": "56f69326-4220-498b-9c51-e5fde2accb38",
   "metadata": {},
   "outputs": [
    {
     "name": "stdout",
     "output_type": "stream",
     "text": [
      "Level Order Traversal in Spiral Form: [[10], [6, 4], [9, 11, 52, 3]]\n"
     ]
    }
   ],
   "source": [
    "from collections import deque\n",
    "\n",
    "class TreeNode:\n",
    "    def __init__(self,data):\n",
    "        self.val=data\n",
    "        self.left=None\n",
    "        self.right=None\n",
    "def spiral_level_order(root):\n",
    "    if not root:\n",
    "        return []\n",
    "    result=[]\n",
    "    queue=deque([root])\n",
    "    left_to_right=True\n",
    "    while queue:\n",
    "        level_size=len(queue)\n",
    "        current_level=deque()\n",
    "        for _ in range(level_size):\n",
    "            node=queue.popleft()\n",
    "            if left_to_right:\n",
    "                current_level.append(node.val)\n",
    "            else:\n",
    "                current_level.appendleft(node.val)\n",
    "            if node.left:\n",
    "                queue.append(node.left)\n",
    "            if node.right:\n",
    "                queue.append(node.right)\n",
    "        result.append(list(current_level))\n",
    "        left_to_right=not left_to_right\n",
    "    return result\n",
    "if __name__==\"__main__\":\n",
    "    root=TreeNode(10)\n",
    "    root.left=TreeNode(4)\n",
    "    root.right=TreeNode(6)\n",
    "    root.left.left=TreeNode(9)\n",
    "    root.left.right=TreeNode(11)\n",
    "    root.right.left=TreeNode(52)\n",
    "    root.right.right=TreeNode(3)\n",
    "    print(\"Level Order Traversal in Spiral Form:\",end=\" \")\n",
    "    spiral_order=spiral_level_order(root)\n",
    "    print(spiral_order)"
   ]
  },
  {
   "cell_type": "code",
   "execution_count": null,
   "id": "bdf00e8d-ca28-4635-9338-b9f3cc1dacbc",
   "metadata": {},
   "outputs": [],
   "source": []
  }
 ],
 "metadata": {
  "kernelspec": {
   "display_name": "Python 3 (ipykernel)",
   "language": "python",
   "name": "python3"
  },
  "language_info": {
   "codemirror_mode": {
    "name": "ipython",
    "version": 3
   },
   "file_extension": ".py",
   "mimetype": "text/x-python",
   "name": "python",
   "nbconvert_exporter": "python",
   "pygments_lexer": "ipython3",
   "version": "3.11.5"
  }
 },
 "nbformat": 4,
 "nbformat_minor": 5
}
